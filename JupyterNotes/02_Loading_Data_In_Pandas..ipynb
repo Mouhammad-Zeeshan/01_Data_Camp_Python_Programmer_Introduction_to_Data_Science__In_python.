{
 "cells": [
  {
   "cell_type": "markdown",
   "id": "e23d1ecb",
   "metadata": {},
   "source": [
    "# What is Pandas."
   ]
  },
  {
   "cell_type": "markdown",
   "id": "89179650",
   "metadata": {},
   "source": [
    "## Pandas.\n",
    "\n",
    "1. Pandas is module to working with **Tabular Data** or the data with rows    and column.\n",
    "2. Example of Tabular Data are Spreadsheets or Data base table.\n",
    "3. Pandas is used for Data Manipulation.\n",
    "4. Pandas has a data type called **DATA FRAME**.\n",
    "5. Loading data into data frame is first step in using pandas.\n",
    "6. We usually use a **CSV** file to load Data Frame.CSV stands for Comma      seprated values.\n",
    "7. Conventionally  We import pandas with alias pd. for example"
   ]
  },
  {
   "cell_type": "markdown",
   "id": "55bb2c26",
   "metadata": {},
   "source": [
    "## Pandas Functions and Method."
   ]
  },
  {
   "cell_type": "markdown",
   "id": "845e4ac1",
   "metadata": {},
   "source": [
    "``` <pd.read_csv(\"filename.csv)>```    # to import csv file inpandas.\n",
    "\n",
    "```<filename.head()>```                # to Show first 5 records of dataframe.\n",
    "    \n",
    "```<filename.tail()>```                # to show last 5 records of dataframe.\n",
    "\n",
    "```<filename.info()>```                # to find Data frame basic \n",
    "                                        structure info.\n",
    "                                       \n",
    "```<filename.head(n)>```               # to show above n records of dataframe\n",
    "\n"
   ]
  },
  {
   "cell_type": "markdown",
   "id": "58cf7114",
   "metadata": {},
   "source": [
    "## How to Manuplate Column data in Data Frame.\n",
    "\n",
    "```<filename[\"columnname\"]>```               # to show particular column in data frame.\n",
    "\n",
    "```<filename.columnname>```                  # to show column if it contains num,letters \n",
    "                                                and underscores.\n",
    "                                  \n",
    "### Note. \n",
    "1. When column name contains space or special characters then we should  use [] square bracket and string notations as shows above first to show column.\n",
    "2. Remember that square brackets are not as parenthesis.usually parenthesis used to call functions.\n",
    "3. File name show the DataFrame.\n"
   ]
  },
  {
   "cell_type": "markdown",
   "id": "9480c6e2",
   "metadata": {},
   "source": [
    "## How to Manuplate Rows/Index data in Data Frame.\n",
    "\n",
    "```< filename[filename.columnname logical operator row attribute] >```\n",
    "\n",
    "```filename[filename[\"column name\"] logical operator row attribute] >```\n",
    "\n",
    "\n",
    " "
   ]
  },
  {
   "cell_type": "code",
   "execution_count": null,
   "id": "7d520ab2",
   "metadata": {},
   "outputs": [],
   "source": []
  }
 ],
 "metadata": {
  "kernelspec": {
   "display_name": "Python 3 (ipykernel)",
   "language": "python",
   "name": "python3"
  },
  "language_info": {
   "codemirror_mode": {
    "name": "ipython",
    "version": 3
   },
   "file_extension": ".py",
   "mimetype": "text/x-python",
   "name": "python",
   "nbconvert_exporter": "python",
   "pygments_lexer": "ipython3",
   "version": "3.9.12"
  }
 },
 "nbformat": 4,
 "nbformat_minor": 5
}
