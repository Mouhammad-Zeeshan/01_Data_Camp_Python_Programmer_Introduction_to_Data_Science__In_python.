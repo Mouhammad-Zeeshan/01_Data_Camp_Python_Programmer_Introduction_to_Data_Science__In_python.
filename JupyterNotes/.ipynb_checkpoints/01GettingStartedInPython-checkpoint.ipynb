{
 "cells": [
  {
   "cell_type": "markdown",
   "id": "ea90e6e6",
   "metadata": {},
   "source": [
    "#  01-Dive Into Python."
   ]
  },
  {
   "cell_type": "code",
   "execution_count": 1,
   "id": "828cf10d",
   "metadata": {},
   "outputs": [
    {
     "name": "stdout",
     "output_type": "stream",
     "text": [
      "Hello World\n"
     ]
    }
   ],
   "source": [
    "print(\"Hello World\")"
   ]
  },
  {
   "cell_type": "code",
   "execution_count": null,
   "id": "4307ad79",
   "metadata": {},
   "outputs": [],
   "source": []
  },
  {
   "cell_type": "markdown",
   "id": "b083de4f",
   "metadata": {},
   "source": [
    "## In this Course we will learn.\n",
    "How\n",
    "1. to write and execute code with Data Camp.\n",
    "2. to Load Data from Spreadsheet file.\n",
    "3. to uploaded data into beutiful plots.\n",
    "\n",
    "## At the end we will be fimiliar.\n",
    "with\n",
    "\n",
    "1. Python Syntax and ready to learn more.\n"
   ]
  },
  {
   "cell_type": "markdown",
   "id": "1df3b26f",
   "metadata": {},
   "source": [
    "# Modules.\n",
    ">. Modules help related tools to group in python.\n",
    ">. for example if we want to group all kind of charts like pie chart, line chart scatter chart etc, so we use matplotlib module.\n",
    ">. we import module by writing \n",
    ">. (import matplotlib as mt) , here we use alias to work fast. "
   ]
  },
  {
   "cell_type": "code",
   "execution_count": 2,
   "id": "21a89c21",
   "metadata": {},
   "outputs": [],
   "source": [
    "import pandas as pd # it is case Sensitive."
   ]
  },
  {
   "cell_type": "code",
   "execution_count": null,
   "id": "6c6e8720",
   "metadata": {},
   "outputs": [],
   "source": []
  },
  {
   "cell_type": "code",
   "execution_count": 3,
   "id": "bfe95ecf",
   "metadata": {},
   "outputs": [],
   "source": [
    "import pandas as pd # it is case Sensitive."
   ]
  },
  {
   "cell_type": "code",
   "execution_count": null,
   "id": "e0cab853",
   "metadata": {},
   "outputs": [],
   "source": []
  },
  {
   "cell_type": "markdown",
   "id": "5c2ad894",
   "metadata": {},
   "source": [
    "# 02-Creating Variables."
   ]
  },
  {
   "cell_type": "markdown",
   "id": "56386b7f",
   "metadata": {},
   "source": [
    "# Variables.\n",
    "- variables helps us reference a piece of data for later use.\n",
    "- In python we can reperesent each line with the help variable, whenever we use variable so it will give us original piece of data.\n",
    "- we define variable using an equal sign.\n",
    "- Variable can define in many cases like integer, float, string etc.\n",
    "\n",
    "- When defining variable we need to follow the following rules.\n",
    "1. Variables must start with the later.\n",
    "2. We can use capital letters but usually use lower case.\n",
    "3. After first later we can use laters, numbers and underscore in our variable name.\n",
    "4. We cant use special character in our variable name like exclamations or dashes etc.\n",
    "5. Variables are case Sensitive like NAME and name are not equal variables."
   ]
  },
  {
   "cell_type": "code",
   "execution_count": 4,
   "id": "4e507ee8",
   "metadata": {},
   "outputs": [],
   "source": [
    "name = \"Zeeshan\"           # Defining variable\n",
    "my_Name ='Hassan'          # Defining variable  "
   ]
  },
  {
   "cell_type": "code",
   "execution_count": 5,
   "id": "03e47d03",
   "metadata": {},
   "outputs": [
    {
     "name": "stdout",
     "output_type": "stream",
     "text": [
      "Zeeshan\n"
     ]
    }
   ],
   "source": [
    "print(name)"
   ]
  },
  {
   "cell_type": "code",
   "execution_count": 6,
   "id": "954b3e4f",
   "metadata": {},
   "outputs": [
    {
     "name": "stdout",
     "output_type": "stream",
     "text": [
      "Hassan\n"
     ]
    }
   ],
   "source": [
    "print(my_Name)"
   ]
  },
  {
   "cell_type": "code",
   "execution_count": 15,
   "id": "fb5e35cc",
   "metadata": {},
   "outputs": [],
   "source": [
    "age = 25                    #Integer variable \n",
    "height = 6.5                 #Float Variable"
   ]
  },
  {
   "cell_type": "code",
   "execution_count": 16,
   "id": "b085df58",
   "metadata": {},
   "outputs": [
    {
     "name": "stdout",
     "output_type": "stream",
     "text": [
      "25\n"
     ]
    }
   ],
   "source": [
    "print(age)"
   ]
  },
  {
   "cell_type": "code",
   "execution_count": 17,
   "id": "30f4f9f0",
   "metadata": {},
   "outputs": [
    {
     "name": "stdout",
     "output_type": "stream",
     "text": [
      "6.5\n"
     ]
    }
   ],
   "source": [
    "print(height)"
   ]
  },
  {
   "cell_type": "code",
   "execution_count": 18,
   "id": "8ce7ab78",
   "metadata": {},
   "outputs": [
    {
     "data": {
      "text/plain": [
       "int"
      ]
     },
     "execution_count": 18,
     "metadata": {},
     "output_type": "execute_result"
    }
   ],
   "source": [
    "type (age)"
   ]
  },
  {
   "cell_type": "markdown",
   "id": "eb20b923",
   "metadata": {},
   "source": [
    "#  03-Fun with Functions."
   ]
  },
  {
   "cell_type": "code",
   "execution_count": null,
   "id": "c2550535",
   "metadata": {},
   "outputs": [],
   "source": []
  },
  {
   "cell_type": "markdown",
   "id": "39d4ef56",
   "metadata": {},
   "source": []
  },
  {
   "cell_type": "code",
   "execution_count": null,
   "id": "7cdd4ac2",
   "metadata": {},
   "outputs": [],
   "source": []
  },
  {
   "cell_type": "markdown",
   "id": "4c30cd57",
   "metadata": {},
   "source": []
  }
 ],
 "metadata": {
  "kernelspec": {
   "display_name": "Python 3 (ipykernel)",
   "language": "python",
   "name": "python3"
  },
  "language_info": {
   "codemirror_mode": {
    "name": "ipython",
    "version": 3
   },
   "file_extension": ".py",
   "mimetype": "text/x-python",
   "name": "python",
   "nbconvert_exporter": "python",
   "pygments_lexer": "ipython3",
   "version": "3.9.12"
  }
 },
 "nbformat": 4,
 "nbformat_minor": 5
}
