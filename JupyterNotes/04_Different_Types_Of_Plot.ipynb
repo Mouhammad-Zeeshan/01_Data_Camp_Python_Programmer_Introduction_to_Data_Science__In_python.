{
 "cells": [
  {
   "cell_type": "markdown",
   "id": "ab4a9105",
   "metadata": {},
   "source": [
    "# Different Types of Plot:\n",
    "\n",
    "## Scatter Plot: \n",
    "\n",
    "1. Scatter plot is a diagram where each value in the data set represented by a dot. Scatter plot is better way to display unorder data set whereas line plot is used to plot ordered data set.\n",
    "\n",
    "2. plt.scatter(xvalues, yvalues).                         # To plot Scatter plot.            \n",
    "\n",
    "\n",
    "3. alpha = (number btw 0 to 1)   # ( This key arg is used to customized scatters transparency, we use number between 0 to 1 to set scatter transparency).\n",
    "\n",
    "\n"
   ]
  },
  {
   "cell_type": "markdown",
   "id": "751b8ff4",
   "metadata": {},
   "source": [
    "# Bar Chart:\n",
    "\n",
    "1. A bar plot or bar cahrt is represents the category of the data with rectangular bars with lengths and heights that is propotional to the values which they represent. The bar plots can be plotted vertically and horizontally.\n",
    "\n",
    "\n",
    "2. plt.bar(xvalues, yvalues)           # To construct bar plot\n",
    "\n",
    "\n",
    "3. plt.barh(xvalues, yvalues)          # To represent horizontal bar chart\n",
    "\n",
    "\n",
    "4. yerr = dataframe.errorcolumn        # This key arg is used to show error bars in bar plot. \n",
    "\n",
    "\n",
    "5. bottom = dataframe.Ycolumnvalue     # this arg is used in Stacked Bar chart, we use thsi to show data in bottom part on bar plot.\n",
    "\n"
   ]
  },
  {
   "cell_type": "markdown",
   "id": "1b3d0b96",
   "metadata": {},
   "source": [
    "# Histogram:\n",
    "\n",
    "1. A Histogram is used to represent data provided in a form of some groups. it is accurate method for the graphical representation of numerical data distribution. It is a type of bar plot where x- axis shows the bin ranges whereas y shows information about frequency.\n",
    "\n",
    "\n",
    "2. plt.hist(dataframe.relavantdata)      # to plot histogram.\n",
    "\n",
    "\n",
    "3. bins = naturalnumber                # this key arg is used to introduce new bins on x-axis by using suitable natural number.\n",
    "\n",
    "\n",
    "4. range = (xmin, xmax)                # This arg is used to sest range between minimum and maximum.\n",
    "\n",
    "5. density = True                      # This arg is used to normalized bars on histogram to see our data easily.\n",
    "\n"
   ]
  },
  {
   "cell_type": "code",
   "execution_count": null,
   "id": "99dd45ee",
   "metadata": {},
   "outputs": [],
   "source": [
    "\n"
   ]
  },
  {
   "cell_type": "code",
   "execution_count": null,
   "id": "3cb160a9",
   "metadata": {},
   "outputs": [],
   "source": []
  }
 ],
 "metadata": {
  "kernelspec": {
   "display_name": "Python 3 (ipykernel)",
   "language": "python",
   "name": "python3"
  },
  "language_info": {
   "codemirror_mode": {
    "name": "ipython",
    "version": 3
   },
   "file_extension": ".py",
   "mimetype": "text/x-python",
   "name": "python",
   "nbconvert_exporter": "python",
   "pygments_lexer": "ipython3",
   "version": "3.9.12"
  }
 },
 "nbformat": 4,
 "nbformat_minor": 5
}
