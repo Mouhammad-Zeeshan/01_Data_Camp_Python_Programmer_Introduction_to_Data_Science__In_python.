{
 "cells": [
  {
   "cell_type": "markdown",
   "id": "bef429b7",
   "metadata": {},
   "source": [
    "# Matplotlib\n",
    " Matplotlib is a python module which use to darw 2D (two Dimensional) plots in python.\n",
    " \n",
    " 1. We usually used matplolib sub modules called pyplot to draw 2D graph in python.\n",
    " \n",
    " \n",
    " 2. ``` < from matplotlib import pyplot as plt >```                # to import library\n",
    " \n",
    "3. ```< plt.plot(dataframe.columnname1, dataframe.columnname2) >```  # to draw 2D graph, here first attribute of positional argument show x-axis while second shows y-axis.  \n",
    "\n",
    "\n",
    "4.  ```< plt.plot() >````   # this function is used to dispaly graph on screen.\n"
   ]
  },
  {
   "cell_type": "markdown",
   "id": "37303d3d",
   "metadata": {},
   "source": [
    "# Labels and Legends in Matplotlib. \n",
    "\n",
    "\n",
    "### Labels:\n",
    "\n",
    "1. ```< plt.xlabel(\"nameoflabel\") >```                   # To show label on x-axis\n",
    "\n",
    "2. ```< plt.ylabel(\"nameoflabel\") >```                   # To show label on y-axis\n",
    "\n",
    "3. ```< plt.title(\"Nameoftitle\") >```                    # To show graph title.\n",
    "\n",
    "\n",
    "### Legends:\n",
    "\n",
    "1. ```< plt.plot(xaxis, yaxis, label=\"text\") >```      # this is use to add label to our graph .\n",
    "\n",
    "- ```< plt.legend() >```                               # to show above command.\n",
    "\n",
    "2. ``` < plt.text(xcoordinatevalue, ycoordinatavlue, \"Message\") >``` # by which we can add arbitrary text in our graph at particular position.\n",
    "\n",
    "\n",
    "###  Modifying Text:\n",
    "\n",
    "1. there are many keyword arguments which modifies our labels and legends.\n",
    "\n",
    "2. Those arguments are fontsize, color, style etc."
   ]
  },
  {
   "cell_type": "markdown",
   "id": "e6ad4290",
   "metadata": {},
   "source": [
    "## Customizing Plot Styles:\n",
    "\n",
    "**ere are many key argument which are used to customized plot and make it suitable to read under different circumstances, some of them are as under**\n",
    "\n",
    "1. color = \"webcolor\"  (this keyword is used to change plot color, we can use web colors).\n",
    "\n",
    "\n",
    "2. linewidth = naturalnumber (this key is used to increaase plot/line width).\n",
    "\n",
    "\n",
    "3. linestyle = \":\" ( this key is used to customazied line style, we use \" -\" , \"--\", \"-.\",  \":\" for normal line, dash line , dot dash line and dotted line respectively. There are many others method to custamized line width).\n",
    "\n",
    "\n",
    "4. marker = \"s\"  ( this key arg is used to marked plot, we used \"x', \"S\", \"o\", \"d\", \"*\" and \"h\" to show x, square, circle, diamond and hexagon shape marker).\n",
    "\n",
    "\n",
    "5. plt.style.use (\"ggplot\")  (This key arg is used to different plot style, \"fivethirtyeight\", \"ggplot\", \"seaborn\" and \"default are different style).\n",
    "\n",
    "\n",
    "6. plt.style.available   ( This command give us information that which plt styles are available).\n",
    "\n"
   ]
  },
  {
   "cell_type": "code",
   "execution_count": null,
   "id": "159d4616",
   "metadata": {},
   "outputs": [],
   "source": []
  },
  {
   "cell_type": "code",
   "execution_count": null,
   "id": "c4a5d329",
   "metadata": {},
   "outputs": [],
   "source": []
  }
 ],
 "metadata": {
  "kernelspec": {
   "display_name": "Python 3 (ipykernel)",
   "language": "python",
   "name": "python3"
  },
  "language_info": {
   "codemirror_mode": {
    "name": "ipython",
    "version": 3
   },
   "file_extension": ".py",
   "mimetype": "text/x-python",
   "name": "python",
   "nbconvert_exporter": "python",
   "pygments_lexer": "ipython3",
   "version": "3.9.12"
  }
 },
 "nbformat": 4,
 "nbformat_minor": 5
}
